{
 "cells": [
  {
   "cell_type": "markdown",
   "metadata": {},
   "source": [
    "# Lab 2 - Sentiment analysis in textual movie review\n",
    "\n",
    "First, a few tactical imports :"
   ]
  },
  {
   "cell_type": "code",
   "execution_count": 91,
   "metadata": {},
   "outputs": [],
   "source": [
    "# Authors: Alexandre Gramfort\n",
    "#          Chloe Clavel\n",
    "# License: BSD Style.\n",
    "# TP Cours ML Telecom ParisTech MDI343\n",
    "\n",
    "import os.path as op\n",
    "import numpy as np\n",
    "\n",
    "from sklearn.base import BaseEstimator, ClassifierMixin\n",
    "from sklearn.model_selection import cross_val_score\n"
   ]
  },
  {
   "cell_type": "code",
   "execution_count": 92,
   "metadata": {},
   "outputs": [
    {
     "name": "stdout",
     "output_type": "stream",
     "text": [
      "Loading dataset\n",
      "2000 documents\n"
     ]
    }
   ],
   "source": [
    "###############################################################################\n",
    "# Load data\n",
    "print(\"Loading dataset\")\n",
    "\n",
    "from glob import glob\n",
    "filenames_neg = sorted(glob(op.join('data', 'imdb1', 'neg', '*.txt')))\n",
    "filenames_pos = sorted(glob(op.join('data', 'imdb1', 'pos', '*.txt')))\n",
    "\n",
    "texts_neg = [open(f).read() for f in filenames_neg]\n",
    "texts_pos = [open(f).read() for f in filenames_pos]\n",
    "texts = texts_neg + texts_pos\n",
    "y = np.ones(len(texts), dtype=np.int)\n",
    "y[:len(texts_neg)] = 0.\n",
    "\n",
    "print(\"%d documents\" % len(texts))"
   ]
  },
  {
   "cell_type": "markdown",
   "metadata": {},
   "source": [
    "### Question 1"
   ]
  },
  {
   "cell_type": "code",
   "execution_count": 93,
   "metadata": {},
   "outputs": [],
   "source": [
    "def count_words(texts):\n",
    "    \"\"\"Vectorize text : return count of each word in the text snippets\n",
    "\n",
    "    Parameters\n",
    "    ----------\n",
    "    texts : list of str\n",
    "        The texts\n",
    "\n",
    "    Returns\n",
    "    -------\n",
    "    vocabulary : dict\n",
    "        A dictionary that points to an index in counts for each word.\n",
    "    counts : ndarray, shape (n_samples, n_features)\n",
    "        The counts of each word in each text.\n",
    "        n_samples == number of documents.\n",
    "        n_features == number of words in vocabulary.\n",
    "    \"\"\"\n",
    "    words = set()\n",
    "    vocabulary = dict()\n",
    "    for text in texts:\n",
    "        textList = text.split(\" \")\n",
    "        for w in textList:\n",
    "            words.add(w)\n",
    "    n_features = len(words)\n",
    "    vocabulary = {key: value for (value, key) in enumerate(words)}\n",
    "    counts = np.zeros((len(texts), n_features))\n",
    "    for i in range(len(texts)):\n",
    "        textList = texts[i].split(\" \")\n",
    "        for w in textList:\n",
    "            counts[i][vocabulary[w]] += 1\n",
    "    return vocabulary, counts"
   ]
  },
  {
   "cell_type": "markdown",
   "metadata": {},
   "source": [
    "### Question 2\n",
    "\n",
    "To assign positive and negative classes to the reviews, they attempted to distinguish a mark or a numerical rating (remark : a rating with a letter is a numerical rating that does not admit its essence). \n",
    "\n",
    "A file's classification is determined based on the first rating they were able to identify.\n",
    "\n",
    "Above the average was considered as positive, the average or less was considered negative.\n",
    "\n",
    "### Question 3"
   ]
  },
  {
   "cell_type": "code",
   "execution_count": 94,
   "metadata": {},
   "outputs": [
    {
     "name": "stdout",
     "output_type": "stream",
     "text": [
      "0.829\n"
     ]
    }
   ],
   "source": [
    "class NB(BaseEstimator, ClassifierMixin):\n",
    "    def __init__(self):\n",
    "        pass\n",
    "\n",
    "    def fit(self, X, y):\n",
    "        N = X.shape[0]\n",
    "        n_features = X.shape[1]\n",
    "        self.classes = set(y)\n",
    "        self.prior = np.zeros((len(self.classes),))\n",
    "        self.p = np.zeros((n_features, len(self.classes)))\n",
    "        for i, elt in enumerate(self.classes):\n",
    "            Xc = np.array([[0 for k in range(n_features)] for j in range(list(y).count(elt))])\n",
    "            Nc = 0\n",
    "            for j in range(N):\n",
    "                if y[j] == elt:\n",
    "                    Xc[Nc,:] = X[j,:]\n",
    "                    Nc += 1\n",
    "            self.prior = Nc * 1. / N\n",
    "            T = np.array([np.sum(Xc[:,j]) for j in range(n_features)])\n",
    "            \n",
    "            somme = 0\n",
    "            #calc tct'\n",
    "            for j in range(n_features):\n",
    "                self.p[j][i] = T[j] + 1\n",
    "                somme += T[j] + 1\n",
    "                \n",
    "            for j in range(n_features):\n",
    "                self.p[j][i]= self.p[j][i] * 1. / somme\n",
    "                \n",
    "        return self\n",
    "        \n",
    "\n",
    "    def predict(self, X):\n",
    "        score = np.dot(X, np.log(self.p))\n",
    "        score += np.log(self.prior)\n",
    "        res = np.array([0,1])[np.argmax(score, axis = 1)]\n",
    "        return res\n",
    "        \n",
    "    def score(self, X, y):\n",
    "        return np.mean(self.predict(X) == y)\n",
    "        \n",
    "# Count words in text\n",
    "vocabulary, X = count_words(texts)\n",
    "\n",
    "# Try to fit, predict and score\n",
    "nb = NB()\n",
    "nb.fit(X[::2], y[::2])\n",
    "print(nb.score(X[1::2], y[1::2]))"
   ]
  },
  {
   "cell_type": "markdown",
   "metadata": {},
   "source": [
    "### Question 4"
   ]
  },
  {
   "cell_type": "code",
   "execution_count": 95,
   "metadata": {},
   "outputs": [
    {
     "name": "stdout",
     "output_type": "stream",
     "text": [
      "score :  [0.805  0.835  0.8225 0.825  0.8025]\n"
     ]
    }
   ],
   "source": [
    "score = cross_val_score(nb, X, y, cv=5)\n",
    "print(\"score : \", score)"
   ]
  },
  {
   "cell_type": "code",
   "execution_count": 96,
   "metadata": {
    "scrolled": true
   },
   "outputs": [],
   "source": [
    "myNbRes = score"
   ]
  },
  {
   "cell_type": "markdown",
   "metadata": {},
   "source": [
    "### Question 5"
   ]
  },
  {
   "cell_type": "code",
   "execution_count": 97,
   "metadata": {},
   "outputs": [],
   "source": [
    "stop_file = open(\"data/english.stop.txt\", \"r\")\n",
    "\n",
    "stop_words = stop_file.read().split(\"\\n\")\n",
    "\n",
    "stop_file.close()\n",
    "\n",
    "def count_words_stop(texts):\n",
    "    words = set()\n",
    "    vocabulary = dict()\n",
    "    for text in texts:\n",
    "        textList = text.split(\" \")\n",
    "        for w in textList:\n",
    "            if w not in stop_words:\n",
    "                words.add(w)\n",
    "    n_features = len(words)\n",
    "    vocabulary = {key: value for (value, key) in enumerate(words)}\n",
    "    counts = np.zeros((len(texts), n_features))\n",
    "    for i in range(len(texts)):\n",
    "        textList = texts[i].split(\" \")\n",
    "        for w in textList:\n",
    "            if w not in stop_words:\n",
    "                counts[i][vocabulary[w]] += 1\n",
    "    return vocabulary, counts"
   ]
  },
  {
   "cell_type": "code",
   "execution_count": 98,
   "metadata": {},
   "outputs": [
    {
     "name": "stdout",
     "output_type": "stream",
     "text": [
      "[0.8    0.8225 0.815  0.8225 0.7825]\n"
     ]
    }
   ],
   "source": [
    "vocabulary2, X2 = count_words_stop(texts)\n",
    "\n",
    "score2 = cross_val_score(nb, X2, y, cv=5)\n",
    "print(score2)"
   ]
  },
  {
   "cell_type": "code",
   "execution_count": 99,
   "metadata": {},
   "outputs": [],
   "source": [
    "myNbResStopWord = score2"
   ]
  },
  {
   "cell_type": "markdown",
   "metadata": {},
   "source": [
    "The results don't really improve by ignoring the stop words. However, when we look at the stop words list, we see that it contains words such as \"like\", \"liked\", \"last\", \"unfortunately\" or \"zero\" which are obviously words that we want to keep (words that suggests that the review is positive or negative). We should try with another stop words list."
   ]
  },
  {
   "cell_type": "markdown",
   "metadata": {},
   "source": [
    "#### Scikit - learn use\n",
    "\n",
    "**Question 1**"
   ]
  },
  {
   "cell_type": "code",
   "execution_count": 100,
   "metadata": {},
   "outputs": [],
   "source": [
    "from sklearn.naive_bayes import MultinomialNB\n",
    "from sklearn.feature_extraction.text import CountVectorizer\n",
    "from sklearn.pipeline import Pipeline\n",
    "import os.path as op\n",
    "import numpy as np\n",
    "from sklearn.base import BaseEstimator, ClassifierMixin\n",
    "from glob import glob\n",
    "import re\n",
    "import pandas as pd\n",
    "import operator\n",
    "import unittest\n",
    "import sys\n",
    "import operator\n",
    "from sklearn.model_selection import *\n",
    "import matplotlib.pyplot as plt\n",
    "plt.style.use('ggplot')\n",
    "%matplotlib inline\n",
    "from sklearn.base import BaseEstimator, ClassifierMixin\n"
   ]
  },
  {
   "cell_type": "code",
   "execution_count": 101,
   "metadata": {},
   "outputs": [],
   "source": [
    "nb_pipline = Pipeline([('count', CountVectorizer()), ('nb', MultinomialNB())])\n",
    "skNbRes = cross_val_score(nb_pipline.set_params(count__analyzer='word'), texts, y, cv=5)\n",
    "skNbBigramRes = cross_val_score(nb_pipline.set_params(count__analyzer='word', count__ngram_range=(1, 2)), texts, y, cv=5)\n",
    "skNbResStopWord = cross_val_score(nb_pipline.set_params(count__analyzer='word', count__ngram_range=(1,1), count__stop_words='english'), texts, y, cv=5)\n",
    "skNbBigramResStopWord = cross_val_score(nb_pipline.set_params(count__analyzer='word', count__ngram_range=(2, 2), count__stop_words='english'), texts, y, cv=5)"
   ]
  },
  {
   "cell_type": "code",
   "execution_count": null,
   "metadata": {},
   "outputs": [],
   "source": [
    "data_nb = [myNbRes, myNbResStopWord,skNbRes,skNbBigramRes, skNbResStopWord, skNbBigramResStopWord]\n",
    "label = ['my NB','my NB with stop words','NB', 'NB with bigram', 'NB with stop words', 'NBw with bigram and stop words']\n",
    "\n",
    "plt.figure(figsize=(12,8))\n",
    "\n",
    "x = [np.mean(data_nb[j]) for j in range (len(my_nb_res)+1)]\n",
    "\n",
    "plt.bar(label, x)\n",
    "plt.title(\"cross_val_scores\")\n",
    "\n",
    "plt.plot()"
   ]
  },
  {
   "cell_type": "markdown",
   "metadata": {},
   "source": [
    "That shows that our implementation is acceptable, as it has a result really close to  a NB with bigram, which is the best one."
   ]
  },
  {
   "cell_type": "markdown",
   "metadata": {},
   "source": [
    "## **Question 2**"
   ]
  },
  {
   "cell_type": "code",
   "execution_count": 103,
   "metadata": {},
   "outputs": [],
   "source": [
    "from sklearn.svm import LinearSVC\n",
    "svc_pipline = Pipeline([('count', CountVectorizer()), ('svc', LinearSVC())])\n",
    "svcNbRes = cross_val_score(svc_pipline.set_params(count__analyzer='word'), texts, y, cv=5)\n",
    "svcNbBigramRes = cross_val_score(svc_pipline.set_params(count__analyzer='char_wb', count__ngram_range=(2, 2)), texts, y, cv=5)\n",
    "svcNbResStopWord = cross_val_score(svc_pipline.set_params(count__analyzer='word', count__ngram_range=(1, 1), count__stop_words='english'), texts, y, cv=5)\n",
    "svcNbBigramResStopWord = cross_val_score(svc_pipline.set_params(count__analyzer='char_wb', count__ngram_range=(2, 2), count__stop_words='english'), texts, y, cv=5)"
   ]
  },
  {
   "cell_type": "code",
   "execution_count": 104,
   "metadata": {},
   "outputs": [
    {
     "data": {
      "text/plain": [
       "[]"
      ]
     },
     "execution_count": 104,
     "metadata": {},
     "output_type": "execute_result"
    },
    {
     "data": {
      "image/png": "[encoded data removed]",
      "text/plain": [
       "<matplotlib.figure.Figure at 0x1a1359e630>"
      ]
     },
     "metadata": {},
     "output_type": "display_data"
    }
   ],
   "source": [
    "label = ['SVC', 'SVC with bigram', 'SVC with stop word', 'SVC with bigram and stop word']\n",
    "data_svc = [svcNbRes, svcNbBigramRes,svcNbResStopWord, svcNbBigramResStopWord]\n",
    "\n",
    "plt.figure(figsize=(12,8))\n",
    "\n",
    "x = [np.mean(data_svc[j]) for j in range (len(data_svc))]\n",
    "plt.bar(label, x)\n",
    "plt.title(\"cross_val_scores\")\n",
    "\n",
    "plt.plot()"
   ]
  },
  {
   "cell_type": "markdown",
   "metadata": {},
   "source": [
    "We find out that the SVC alone is way better than with a bigram, and that the use of stop words does not affect the results. "
   ]
  },
  {
   "cell_type": "markdown",
   "metadata": {},
   "source": [
    "## **Question 3**"
   ]
  },
  {
   "cell_type": "code",
   "execution_count": 105,
   "metadata": {},
   "outputs": [],
   "source": [
    "from nltk import SnowballStemmer\n",
    "from nltk.tokenize import sent_tokenize, word_tokenize"
   ]
  },
  {
   "cell_type": "code",
   "execution_count": 109,
   "metadata": {
    "scrolled": true
   },
   "outputs": [],
   "source": [
    "stemmer = SnowballStemmer(\"english\")\n",
    "\n",
    "class StemmedCountVectorizer(CountVectorizer):\n",
    "    def build_analyzer(self):\n",
    "        analyzer = super(StemmedCountVectorizer, self).build_analyzer()\n",
    "        return lambda doc: ([stemmer.stem(w) for w in analyzer(doc)])\n",
    "\n",
    "nbStemPipeline = Pipeline([('count', StemmedCountVectorizer()),('mnb', MultinomialNB())])\n",
    "nbStemScore = np.mean(cross_val_score(nbStemPipeline, texts, y, cv=5))\n",
    "\n",
    "svcStemSipline = Pipeline([('count', StemmedCountVectorizer()),('svc', LinearSVC())])\n",
    "svcStemScore = np.mean(cross_val_score(svcStemSipline, texts, y, cv=5))"
   ]
  },
  {
   "cell_type": "code",
   "execution_count": 111,
   "metadata": {},
   "outputs": [
    {
     "data": {
      "text/plain": [
       "[]"
      ]
     },
     "execution_count": 111,
     "metadata": {},
     "output_type": "execute_result"
    },
    {
     "data": {
      "image/png": "[encoded data removed]",
      "text/plain": [
       "<matplotlib.figure.Figure at 0x10722ac18>"
      ]
     },
     "metadata": {},
     "output_type": "display_data"
    }
   ],
   "source": [
    "label = ['NB', 'Stemmed NB', 'SVC', 'Stemmed SVC']\n",
    "dataStem = [skNbRes, nbStemScore,svcNbRes, svcStemScore]\n",
    "\n",
    "plt.figure(figsize=(12,8))\n",
    "\n",
    "x = [np.mean(data_svc[j]) for j in range (len(dataStem))]\n",
    "plt.bar(label, x)\n",
    "plt.title(\"cross_val_scores\")\n",
    "\n",
    "plt.plot()"
   ]
  },
  {
   "cell_type": "markdown",
   "metadata": {},
   "source": [
    "We obtain that the stemming does not change the result."
   ]
  },
  {
   "cell_type": "markdown",
   "metadata": {},
   "source": [
    "## **Question 4**"
   ]
  },
  {
   "cell_type": "code",
   "execution_count": 113,
   "metadata": {},
   "outputs": [
    {
     "name": "stdout",
     "output_type": "stream",
     "text": [
      "[nltk_data] Downloading package universal_tagset to\n",
      "[nltk_data]     /Users/Raph/nltk_data...\n",
      "[nltk_data]   Unzipping taggers/universal_tagset.zip.\n"
     ]
    }
   ],
   "source": [
    "from nltk import pos_tag\n",
    "from nltk import word_tokenize\n",
    "nltk.download('universal_tagset')\n",
    "\n",
    "def filterPos(texts=texts):\n",
    "    filtered = [list(filter(lambda x: (x[1] == 'NOUN') \n",
    "                         or (x[1] == 'VERB') \n",
    "                         or (x[1] == 'ADV') \n",
    "                         or (x[1] == 'ADJ'), pos_tag(word_tokenize(txt), tagset='universal'))) for txt in texts]\n",
    "    return filtered\n",
    "\n",
    "def applyPosTag(filtered):\n",
    "    postagged = []\n",
    "    for i, tuples in enumerate(filtered, 0):\n",
    "        postagged.append('')\n",
    "        for t in tuples:\n",
    "            postagged[i] += t[0] + ' '\n",
    "    return postagged\n",
    "\n",
    "postText = applyPosTag(filterPos())"
   ]
  },
  {
   "cell_type": "code",
   "execution_count": 115,
   "metadata": {
    "scrolled": false
   },
   "outputs": [],
   "source": [
    "nbPipeline = Pipeline([('count', CountVectorizer()), ('svc', MultinomialNB())])\n",
    "nbPosTagScore = np.mean(cross_val_score(nbPipeline, postText, y))\n",
    "\n",
    "svcPipeline = Pipeline([('count', CountVectorizer()),('svc', LinearSVC())])\n",
    "svcPosTagScore = np.mean(cross_val_score(svcPipeline, postText, y))"
   ]
  },
  {
   "cell_type": "code",
   "execution_count": 116,
   "metadata": {},
   "outputs": [
    {
     "data": {
      "text/plain": [
       "[]"
      ]
     },
     "execution_count": 116,
     "metadata": {},
     "output_type": "execute_result"
    },
    {
     "data": {
      "image/png": "[encoded data removed]",
      "text/plain": [
       "<matplotlib.figure.Figure at 0x1a1b4ca518>"
      ]
     },
     "metadata": {},
     "output_type": "display_data"
    }
   ],
   "source": [
    "dataTag = [skNbRes, nbPosTagScore,svcNbRes, svcPosTagScore]\n",
    "label = ['NB', 'PostTagged NB', 'SVC', 'PostTaged SVC']\n",
    "\n",
    "plt.figure(figsize=(12,8))\n",
    "\n",
    "x = [np.mean(data_svc[j]) for j in range (len(dataTag))]\n",
    "plt.bar(label, x)\n",
    "plt.title(\"cross_val_scores with only nouns, adjectives, verbes and adverbs\")\n",
    "\n",
    "plt.plot()"
   ]
  },
  {
   "cell_type": "markdown",
   "metadata": {},
   "source": [
    "We hereby obtain that the post tagging does not affect the result either. "
   ]
  }
 ],
 "metadata": {
  "kernelspec": {
   "display_name": "Python 3",
   "language": "python",
   "name": "python3"
  },
  "language_info": {
   "codemirror_mode": {
    "name": "ipython",
    "version": 3
   },
   "file_extension": ".py",
   "mimetype": "text/x-python",
   "name": "python",
   "nbconvert_exporter": "python",
   "pygments_lexer": "ipython3",
   "version": "3.6.4"
  }
 },
 "nbformat": 4,
 "nbformat_minor": 2
}
